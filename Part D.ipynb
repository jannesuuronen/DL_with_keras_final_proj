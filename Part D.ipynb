{
 "cells": [
  {
   "cell_type": "code",
   "execution_count": 1,
   "id": "7f3d8209-5942-4f9a-af6e-8182e2866c06",
   "metadata": {},
   "outputs": [],
   "source": [
    "import keras as keras\n",
    "import pandas as pd\n",
    "from keras.layers import Dense\n",
    "from sklearn.model_selection import train_test_split\n",
    "from sklearn.metrics import mean_squared_error\n",
    "import statistics as stats"
   ]
  },
  {
   "cell_type": "markdown",
   "id": "5bd7eee4-3eff-4f5a-aa0a-892a240a1c8a",
   "metadata": {},
   "source": [
    "## Extract and split dataset into predictors and target columns"
   ]
  },
  {
   "cell_type": "code",
   "execution_count": 5,
   "id": "fae1c5c9-be2e-4ff5-afd1-69797c35c8bb",
   "metadata": {},
   "outputs": [],
   "source": [
    "# get predictors and target columns\n",
    "dataset = pd.read_csv(\"concrete_data.csv\")\n",
    "y = dataset['Strength']\n",
    "X = dataset.iloc[:,0:8]\n",
    "X_train, X_test, y_train, y_test = train_test_split(X, y, test_size=0.3, random_state=42)\n",
    "# normalize train and test predictors\n",
    "X_train = (X_train - X_train.mean()) / X_train.std()\n",
    "X_test = (X_test - X_test.mean()) / X_test.std()"
   ]
  },
  {
   "cell_type": "markdown",
   "id": "6dbff301-5048-4d61-b3bb-27f7b06f7daf",
   "metadata": {},
   "source": [
    "## Define Neural Network"
   ]
  },
  {
   "cell_type": "code",
   "execution_count": 6,
   "id": "5c605b07-aa66-490b-8cd8-c038328b84b5",
   "metadata": {},
   "outputs": [],
   "source": [
    "## input: a list containing the number of nodes per hidden layer\n",
    "def build_model(nodes_per_layer):\n",
    "    model = keras.Sequential()\n",
    "    for num_nodes in nodes_per_layer:\n",
    "        model.add(Dense(units=num_nodes, activation = 'relu'))\n",
    "    model.add(Dense(units=1))\n",
    "    model.compile(optimizer='adam', loss='mse')\n",
    "    return model"
   ]
  },
  {
   "cell_type": "markdown",
   "id": "607f1c54-e4c3-49f5-aeac-c50d4d312023",
   "metadata": {},
   "source": [
    "## Train and gather evaluation metrics"
   ]
  },
  {
   "cell_type": "code",
   "execution_count": 7,
   "id": "6c2a08b8-cc8f-48d6-a64a-04e352f243a3",
   "metadata": {},
   "outputs": [],
   "source": [
    "mean_accs = []\n",
    "no_iter = 50\n",
    "epochs = 50\n",
    "model = build_model([10,10,10])\n",
    "for i in range(no_iter): \n",
    "    model.fit(x=X_train, y=y_train, epochs=epochs, verbose=False)\n",
    "    y_preds = model.predict(x=X_test)\n",
    "    mean_accs.append(mean_squared_error(y_true=y_test, y_pred=y_preds))"
   ]
  },
  {
   "cell_type": "markdown",
   "id": "5230aff7-e400-47dd-9371-957a71b340c1",
   "metadata": {},
   "source": [
    "## Calculate the mean and standard deviation of MSEs"
   ]
  },
  {
   "cell_type": "code",
   "execution_count": 8,
   "id": "7e792280-e7ca-487a-8edb-49b3c048d83e",
   "metadata": {},
   "outputs": [],
   "source": [
    "# mean mse and std of mse\n",
    "mean_mse = sum(mean_accs) / len(mean_accs)\n",
    "std_mse = stats.stdev(mean_accs)"
   ]
  },
  {
   "cell_type": "markdown",
   "id": "66812bac",
   "metadata": {},
   "source": [
    "## Discussion on model accuracy"
   ]
  },
  {
   "cell_type": "code",
   "execution_count": 9,
   "id": "faa238b1-3e02-41bc-8405-0de031f8212d",
   "metadata": {},
   "outputs": [
    {
     "name": "stdout",
     "output_type": "stream",
     "text": [
      "The MSE mean is 53.22413835725579, and the Standard Deviation is 16.260627202126052\n",
      "The MSE mean is 57.57553517880962, and the Standard Deviation is 47.52768586631167 when we consider normalized predictors\n",
      "The MSE mean is 47.35434917620199, and the Standard Deviation is 19.973075595082296 when we train for 100 epochs\n",
      "The MSE mean is 53.43158846846652, and the Standard Deviation is 14.781145540882985 when we consider a deeper model\n"
     ]
    }
   ],
   "source": [
    "print(f\"The MSE mean is 53.22413835725579, and the Standard Deviation is 16.260627202126052\")\n",
    "print(f\"The MSE mean is 57.57553517880962, and the Standard Deviation is 47.52768586631167 when we consider normalized predictors\")\n",
    "print(f\"The MSE mean is 47.35434917620199, and the Standard Deviation is 19.973075595082296 when we train for 100 epochs\")\n",
    "print(f\"The MSE mean is {mean_mse}, and the Standard Deviation is {std_mse} when we consider a deeper model\")"
   ]
  },
  {
   "cell_type": "markdown",
   "id": "bb0d797c",
   "metadata": {},
   "source": [
    "We achieve some interesting results we employ a deeper model to solve our problem. The mean MSE is higher compared to Part C where we trained our model 100 epochs, but the Standard Deviation is lower. Suggesting that while the model accuracy is lesser, the model is substanially more consistent/stable when we have a deeper model. \n",
    "\n",
    "Conclusively, we can see that employing a deeper model renders a more predictable result in terms of model accuracy at the cost of a higher mean accuracy. When we consider 100 epochs we instead achieve a smaller mean MSE at the cost of less stability. "
   ]
  }
 ],
 "metadata": {
  "kernelspec": {
   "display_name": "Python 3",
   "language": "python",
   "name": "python3"
  },
  "language_info": {
   "codemirror_mode": {
    "name": "ipython",
    "version": 3
   },
   "file_extension": ".py",
   "mimetype": "text/x-python",
   "name": "python",
   "nbconvert_exporter": "python",
   "pygments_lexer": "ipython3",
   "version": "3.8.8"
  }
 },
 "nbformat": 4,
 "nbformat_minor": 5
}
